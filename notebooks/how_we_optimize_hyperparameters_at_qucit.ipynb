{
 "cells": [
  {
   "cell_type": "markdown",
   "metadata": {},
   "source": [
    "The accompanying notebook for the **\"How We Optimize Hyperparmeters At Qucit\"** blog post"
   ]
  },
  {
   "cell_type": "markdown",
   "metadata": {},
   "source": [
    "# Load libraries and set constants"
   ]
  },
  {
   "cell_type": "markdown",
   "metadata": {},
   "source": [
    "## Load libraries"
   ]
  },
  {
   "cell_type": "code",
   "execution_count": 2,
   "metadata": {
    "ExecuteTime": {
     "end_time": "2016-12-02T17:07:17.565925",
     "start_time": "2016-12-02T17:07:17.547882"
    },
    "collapsed": false
   },
   "outputs": [],
   "source": [
    "# Data analysis imports\n",
    "import pandas as pd\n",
    "import numpy as np\n",
    "\n",
    "# Machine learning imports\n",
    "import xgboost as xgb\n",
    "import sklearn\n",
    "from sklearn.grid_search import GridSearchCV\n",
    "from sklearn.model_selection import train_test_split, cross_val_score\n",
    "from sklearn.metrics import mean_squared_error, make_scorer\n",
    "\n",
    "# Hyperopt imports\n",
    "from hyperopt import fmin, tpe, hp, STATUS_OK, Trials, rand\n",
    "\n",
    "# Plotting imports\n",
    "import matplotlib.pyplot as plt\n",
    "import seaborn as sns\n",
    "% matplotlib inline"
   ]
  },
  {
   "cell_type": "code",
   "execution_count": 28,
   "metadata": {
    "ExecuteTime": {
     "end_time": "2016-12-02T17:10:22.871641",
     "start_time": "2016-12-02T17:10:22.866164"
    },
    "collapsed": true
   },
   "outputs": [],
   "source": [
    "pd.set_option('max_colwidth',100)\n",
    "sns.set(font_scale=1.5)"
   ]
  },
  {
   "cell_type": "markdown",
   "metadata": {
    "ExecuteTime": {
     "end_time": "2016-12-02T16:53:16.564283",
     "start_time": "2016-12-02T16:53:16.559265"
    }
   },
   "source": [
    "## Some constants"
   ]
  },
  {
   "cell_type": "code",
   "execution_count": 4,
   "metadata": {
    "ExecuteTime": {
     "end_time": "2016-12-02T17:07:20.678969",
     "start_time": "2016-12-02T17:07:20.673914"
    },
    "collapsed": false
   },
   "outputs": [],
   "source": [
    "SEED = 314\n",
    "TEST_SIZE = 0.2\n",
    "MAX_EVALS = 10"
   ]
  },
  {
   "cell_type": "markdown",
   "metadata": {
    "ExecuteTime": {
     "end_time": "2016-12-02T16:53:05.854341",
     "start_time": "2016-12-02T16:53:05.836548"
    }
   },
   "source": [
    "## Hyperparameters grids"
   ]
  },
  {
   "cell_type": "code",
   "execution_count": 5,
   "metadata": {
    "ExecuteTime": {
     "end_time": "2016-12-02T17:07:21.582871",
     "start_time": "2016-12-02T17:07:21.571039"
    },
    "collapsed": true
   },
   "outputs": [],
   "source": [
    "gs_hp_grid = {'max_depth':[4, 6, 8, 10],\n",
    "              'n_estimators': [10, 15, 20, 25],\n",
    "              'learning_rate': [0.2, 0.4, 0.6, 0.8], \n",
    "              'gamma': [0.2, 0.4, 0.6, 0.8]\n",
    "}\n",
    "\n",
    "hyperopt_hp_grid = {'n_estimators' : hp.quniform('n_estimators', 10, 1000, 1),\n",
    "             'learning_rate' : hp.loguniform('learning_rate', 0.001, 0.1),\n",
    "             'max_depth' : hp.quniform('max_depth', 3, 15, 1),\n",
    "             'gamma': hp.loguniform('gamma', 0.01, 1)}"
   ]
  },
  {
   "cell_type": "markdown",
   "metadata": {},
   "source": [
    "# Some utiliy functions "
   ]
  },
  {
   "cell_type": "markdown",
   "metadata": {},
   "source": [
    "## Score"
   ]
  },
  {
   "cell_type": "code",
   "execution_count": 6,
   "metadata": {
    "ExecuteTime": {
     "end_time": "2016-12-02T17:07:23.467746",
     "start_time": "2016-12-02T17:07:23.461279"
    },
    "collapsed": true
   },
   "outputs": [],
   "source": [
    "mse_scorer = make_scorer(mean_squared_error)"
   ]
  },
  {
   "cell_type": "markdown",
   "metadata": {},
   "source": [
    "## Data loading"
   ]
  },
  {
   "cell_type": "code",
   "execution_count": 7,
   "metadata": {
    "ExecuteTime": {
     "end_time": "2016-12-02T17:07:24.338059",
     "start_time": "2016-12-02T17:07:24.330444"
    },
    "collapsed": true
   },
   "outputs": [],
   "source": [
    "def load_car_accidents():\n",
    "    accidents_df = pd.read_csv('../data/accident.csv')\n",
    "    features = accidents_df.drop('FATALS', axis=1)\n",
    "    # Don't select the columns having object type\n",
    "    columns = features.columns[features.dtypes != 'object']\n",
    "    targets = accidents_df[['FATALS']]\n",
    "    return features.loc[:, columns], targets"
   ]
  },
  {
   "cell_type": "markdown",
   "metadata": {
    "ExecuteTime": {
     "end_time": "2016-12-02T16:54:57.498765",
     "start_time": "2016-12-02T16:54:57.450735"
    }
   },
   "source": [
    "## Grid search "
   ]
  },
  {
   "cell_type": "code",
   "execution_count": 8,
   "metadata": {
    "ExecuteTime": {
     "end_time": "2016-12-02T17:07:25.841834",
     "start_time": "2016-12-02T17:07:25.827843"
    },
    "collapsed": true
   },
   "outputs": [],
   "source": [
    "def compute_rmse(model, features, targets):\n",
    "    prediction = model.predict(features)\n",
    "    rmse = np.sqrt(mean_squared_error(targets, prediction))\n",
    "    return rmse\n",
    "\n",
    "def train_grid_search(cv_parameters, features, targets):\n",
    "    xgb_regressor = xgb.XGBRegressor({'eval_score':'rmse'})\n",
    "    grid_search = GridSearchCV(xgb_regressor, cv_parameters, cv=5, \n",
    "                               verbose=1, \n",
    "                               n_jobs=4, scoring=mse_scorer)\n",
    "    grid_search.fit(features, targets)\n",
    "    return grid_search"
   ]
  },
  {
   "cell_type": "markdown",
   "metadata": {},
   "source": [
    "## Hyperopt"
   ]
  },
  {
   "cell_type": "code",
   "execution_count": 9,
   "metadata": {
    "ExecuteTime": {
     "end_time": "2016-12-02T17:07:27.333072",
     "start_time": "2016-12-02T17:07:27.325128"
    },
    "collapsed": true
   },
   "outputs": [],
   "source": [
    "def transform_params(params):\n",
    "    params[\"gamma\"] = np.log(params[\"gamma\"])\n",
    "    params[\"learning_rate\"] = np.log(params[\"learning_rate\"])\n",
    "    params[\"n_estimators\"] = int(params[\"n_estimators\"])\n",
    "    params[\"max_depth\"] = int(params[\"max_depth\"])\n",
    "    return params"
   ]
  },
  {
   "cell_type": "code",
   "execution_count": 10,
   "metadata": {
    "ExecuteTime": {
     "end_time": "2016-12-02T17:07:28.754553",
     "start_time": "2016-12-02T17:07:28.738122"
    },
    "collapsed": true
   },
   "outputs": [],
   "source": [
    "def loss(params):\n",
    "    params = transform_params(params)\n",
    "    xgb_regressor = xgb.XGBRegressor(silent=False, **params)\n",
    "    cv_mse = cross_val_score(xgb_regressor, train_features, train_targets, \n",
    "                          cv=5, verbose=0, n_jobs=4, \n",
    "                          scoring=mse_scorer)\n",
    "    rmse = np.sqrt(cv_mse.mean())\n",
    "    return {'loss': rmse, \n",
    "            'status': STATUS_OK}\n",
    "def optimize(trials, space):\n",
    "    best = fmin(loss, space, algo=tpe.suggest, \n",
    "                trials=trials, \n",
    "                max_evals=MAX_EVALS)\n",
    "    return best\n",
    "def random_optimize(trials, space):\n",
    "    best = fmin(loss, space, algo=rand.suggest,\n",
    "                trials=trials, \n",
    "                max_evals=MAX_EVALS)\n",
    "    return best"
   ]
  },
  {
   "cell_type": "markdown",
   "metadata": {},
   "source": [
    "## Model results"
   ]
  },
  {
   "cell_type": "code",
   "execution_count": 11,
   "metadata": {
    "ExecuteTime": {
     "end_time": "2016-12-02T17:07:30.637206",
     "start_time": "2016-12-02T17:07:30.624672"
    },
    "collapsed": true
   },
   "outputs": [],
   "source": [
    "def get_model_results(hyperparameters):\n",
    "    xgb_regressor = xgb.XGBRegressor(**hyperparameters)\n",
    "    mse_cv_scores = cross_val_score(xgb_regressor, train_features, train_targets, \n",
    "                                cv=5, verbose=0, \n",
    "                                n_jobs=4, scoring=mse_scorer)\n",
    "    rmse_cv_scores = np.sqrt(mse_cv_scores)\n",
    "    xgb_regressor.fit(train_features, train_targets)\n",
    "    train_rmse = compute_rmse(xgb_regressor, train_features, train_targets)\n",
    "    test_rmse = compute_rmse(xgb_regressor, test_features, test_targets)\n",
    "    return {'optimal_hyperparameters': hyperparameters,\n",
    "            'train_rmse': train_rmse,\n",
    "            'mean_cv_rmse' : np.sqrt(mse_cv_scores.mean()),\n",
    "            'std_cv_rmse':  mse_cv_scores.std() / float(np.sqrt(len(mse_cv_scores))),\n",
    "            'test_rmse': test_rmse}"
   ]
  },
  {
   "cell_type": "markdown",
   "metadata": {},
   "source": [
    "# Load data and train/test split"
   ]
  },
  {
   "cell_type": "code",
   "execution_count": 12,
   "metadata": {
    "ExecuteTime": {
     "end_time": "2016-12-02T17:07:35.148761",
     "start_time": "2016-12-02T17:07:34.674527"
    },
    "collapsed": false
   },
   "outputs": [],
   "source": [
    "features, targets = load_car_accidents()"
   ]
  },
  {
   "cell_type": "code",
   "execution_count": 13,
   "metadata": {
    "ExecuteTime": {
     "end_time": "2016-12-02T17:07:36.138268",
     "start_time": "2016-12-02T17:07:36.051209"
    },
    "collapsed": true
   },
   "outputs": [],
   "source": [
    "train_features, test_features, train_targets, test_targets = train_test_split(features, targets, \n",
    "                                                                              test_size=TEST_SIZE, \n",
    "                                                                              random_state=SEED)"
   ]
  },
  {
   "cell_type": "markdown",
   "metadata": {},
   "source": [
    "## Explore targets "
   ]
  },
  {
   "cell_type": "code",
   "execution_count": 30,
   "metadata": {
    "ExecuteTime": {
     "end_time": "2016-12-02T17:11:00.984929",
     "start_time": "2016-12-02T17:11:00.022956"
    },
    "collapsed": false
   },
   "outputs": [
    {
     "data": {
      "text/plain": [
       "<matplotlib.text.Text at 0x10ffba0d0>"
      ]
     },
     "execution_count": 30,
     "metadata": {},
     "output_type": "execute_result"
    },
    {
     "data": {
      "image/png": "[encoded data removed]",
      "text/plain": [
       "<matplotlib.figure.Figure at 0x10fcf8f10>"
      ]
     },
     "metadata": {},
     "output_type": "display_data"
    }
   ],
   "source": [
    "ax = targets.FATALS.value_counts().plot(kind='bar')\n",
    "ax.set_xlabel('Number of casualties')\n",
    "ax.set_ylabel('Count')"
   ]
  },
  {
   "cell_type": "markdown",
   "metadata": {},
   "source": [
    "# Optimize hyperparameters"
   ]
  },
  {
   "cell_type": "markdown",
   "metadata": {},
   "source": [
    "## Grid search"
   ]
  },
  {
   "cell_type": "code",
   "execution_count": 31,
   "metadata": {
    "ExecuteTime": {
     "end_time": "2016-12-02T17:44:16.419642",
     "start_time": "2016-12-02T17:11:16.791186"
    },
    "collapsed": false
   },
   "outputs": [
    {
     "name": "stdout",
     "output_type": "stream",
     "text": [
      "Fitting 5 folds for each of 256 candidates, totalling 1280 fits\n"
     ]
    },
    {
     "name": "stderr",
     "output_type": "stream",
     "text": [
      "[Parallel(n_jobs=4)]: Done  42 tasks      | elapsed:  1.0min\n",
      "[Parallel(n_jobs=4)]: Done 192 tasks      | elapsed:  4.7min\n",
      "[Parallel(n_jobs=4)]: Done 442 tasks      | elapsed: 11.7min\n",
      "[Parallel(n_jobs=4)]: Done 792 tasks      | elapsed: 20.5min\n",
      "[Parallel(n_jobs=4)]: Done 1242 tasks      | elapsed: 31.7min\n",
      "[Parallel(n_jobs=4)]: Done 1280 out of 1280 | elapsed: 32.9min finished\n"
     ]
    }
   ],
   "source": [
    "grid_search = train_grid_search(gs_hp_grid, train_features, train_targets)"
   ]
  },
  {
   "cell_type": "markdown",
   "metadata": {},
   "source": [
    "## Random search"
   ]
  },
  {
   "cell_type": "code",
   "execution_count": 32,
   "metadata": {
    "ExecuteTime": {
     "end_time": "2016-12-02T18:39:40.129573",
     "start_time": "2016-12-02T17:54:15.270449"
    },
    "collapsed": true
   },
   "outputs": [],
   "source": [
    "random_trials = Trials()\n",
    "random_optimal_hp = random_optimize(random_trials, hyperopt_hp_grid)"
   ]
  },
  {
   "cell_type": "code",
   "execution_count": 33,
   "metadata": {
    "ExecuteTime": {
     "end_time": "2016-12-02T18:42:06.815806",
     "start_time": "2016-12-02T18:42:06.795906"
    },
    "collapsed": true
   },
   "outputs": [],
   "source": [
    "random_optimal_hp = transform_params(random_optimal_hp)"
   ]
  },
  {
   "cell_type": "markdown",
   "metadata": {},
   "source": [
    "## TPE search"
   ]
  },
  {
   "cell_type": "code",
   "execution_count": 159,
   "metadata": {
    "ExecuteTime": {
     "end_time": "2016-12-01T21:02:20.130003",
     "start_time": "2016-12-01T17:51:09.214129"
    },
    "collapsed": false
   },
   "outputs": [],
   "source": [
    "trials = Trials()\n",
    "hyperopt_optimal_hp = optimize(trials, hyperopt_hp_grid)"
   ]
  },
  {
   "cell_type": "code",
   "execution_count": null,
   "metadata": {
    "collapsed": true
   },
   "outputs": [],
   "source": [
    "hyperopt_optimal_hp = transform_params(hyperopt_optimal_hp)"
   ]
  },
  {
   "cell_type": "markdown",
   "metadata": {},
   "source": [
    "## Results"
   ]
  },
  {
   "cell_type": "code",
   "execution_count": 165,
   "metadata": {
    "ExecuteTime": {
     "end_time": "2016-12-02T15:05:10.597206",
     "start_time": "2016-12-02T15:05:10.558706"
    },
    "collapsed": true
   },
   "outputs": [],
   "source": [
    "def get_results_df():\n",
    "    optimization_methods = ['grid_search', 'random_search', 'hyperopt_tpe']\n",
    "    optimal_hyperparameters= [grid_search.best_params_, \n",
    "                              random_optimal_hp,\n",
    "                              hyperopt_optimal_hp]\n",
    "    results = [get_model_results(optimal_hp) for optimal_hp in optimal_hyperparameters]\n",
    "    return (pd.DataFrame(results)\n",
    "              .assign(opt_method=lambda df: pd.Series(optimization_methods))\n",
    "              .loc[:, \n",
    "                   ['optimal_hyperparameters', 'test_rmse', \n",
    "                    'mean_cv_rmse', 'std_cv_rmse', \n",
    "                    'train_rmse', 'opt_method']])"
   ]
  },
  {
   "cell_type": "code",
   "execution_count": 166,
   "metadata": {
    "ExecuteTime": {
     "end_time": "2016-12-02T15:09:33.121476",
     "start_time": "2016-12-02T15:05:12.463223"
    },
    "collapsed": false
   },
   "outputs": [],
   "source": [
    "results_df = get_results_df()"
   ]
  },
  {
   "cell_type": "code",
   "execution_count": 167,
   "metadata": {
    "ExecuteTime": {
     "end_time": "2016-12-02T15:13:26.965540",
     "start_time": "2016-12-02T15:13:26.899359"
    },
    "collapsed": false,
    "scrolled": true
   },
   "outputs": [
    {
     "data": {
      "text/html": [
       "<div>\n",
       "<table border=\"1\" class=\"dataframe\">\n",
       "  <thead>\n",
       "    <tr style=\"text-align: right;\">\n",
       "      <th></th>\n",
       "      <th>optimal_hyperparameters</th>\n",
       "      <th>test_rmse</th>\n",
       "      <th>mean_cv_rmse</th>\n",
       "      <th>std_cv_rmse</th>\n",
       "      <th>train_rmse</th>\n",
       "      <th>opt_method</th>\n",
       "    </tr>\n",
       "  </thead>\n",
       "  <tbody>\n",
       "    <tr>\n",
       "      <th>0</th>\n",
       "      <td>{u'n_estimators': 25, u'learning_rate': 0.8, u'max_depth': 10, u'gamma': 0.2}</td>\n",
       "      <td>0.390102</td>\n",
       "      <td>0.406295</td>\n",
       "      <td>0.001396</td>\n",
       "      <td>0.138684</td>\n",
       "      <td>grid_search</td>\n",
       "    </tr>\n",
       "    <tr>\n",
       "      <th>1</th>\n",
       "      <td>{u'n_estimators': 105, u'learning_rate': 0.0583873644628, u'max_depth': 5, u'gamma': 0.555704565...</td>\n",
       "      <td>0.325454</td>\n",
       "      <td>0.338373</td>\n",
       "      <td>0.003867</td>\n",
       "      <td>0.302278</td>\n",
       "      <td>random_search</td>\n",
       "    </tr>\n",
       "    <tr>\n",
       "      <th>2</th>\n",
       "      <td>{u'n_estimators': 721, u'learning_rate': 0.0812468270757, u'max_depth': 4, u'gamma': 0.640681919...</td>\n",
       "      <td>0.325325</td>\n",
       "      <td>0.338179</td>\n",
       "      <td>0.003728</td>\n",
       "      <td>0.298393</td>\n",
       "      <td>hyperopt_tpe</td>\n",
       "    </tr>\n",
       "  </tbody>\n",
       "</table>\n",
       "</div>"
      ],
      "text/plain": [
       "                                                                               optimal_hyperparameters  \\\n",
       "0                        {u'n_estimators': 25, u'learning_rate': 0.8, u'max_depth': 10, u'gamma': 0.2}   \n",
       "1  {u'n_estimators': 105, u'learning_rate': 0.0583873644628, u'max_depth': 5, u'gamma': 0.555704565...   \n",
       "2  {u'n_estimators': 721, u'learning_rate': 0.0812468270757, u'max_depth': 4, u'gamma': 0.640681919...   \n",
       "\n",
       "   test_rmse  mean_cv_rmse  std_cv_rmse  train_rmse     opt_method  \n",
       "0   0.390102      0.406295     0.001396    0.138684    grid_search  \n",
       "1   0.325454      0.338373     0.003867    0.302278  random_search  \n",
       "2   0.325325      0.338179     0.003728    0.298393   hyperopt_tpe  "
      ]
     },
     "execution_count": 167,
     "metadata": {},
     "output_type": "execute_result"
    }
   ],
   "source": [
    "results_df"
   ]
  },
  {
   "cell_type": "markdown",
   "metadata": {
    "ExecuteTime": {
     "end_time": "2016-12-02T16:57:54.111834",
     "start_time": "2016-12-02T16:57:54.095421"
    }
   },
   "source": [
    "## Save results"
   ]
  },
  {
   "cell_type": "code",
   "execution_count": 169,
   "metadata": {
    "ExecuteTime": {
     "end_time": "2016-12-02T15:17:29.588159",
     "start_time": "2016-12-02T15:17:29.575096"
    },
    "collapsed": true
   },
   "outputs": [],
   "source": [
    "results_df.to_csv('../data/accidents_opt_hp_results.csv', index=False)"
   ]
  },
  {
   "cell_type": "markdown",
   "metadata": {},
   "source": [
    "## Formatting the results into a HTML table\n"
   ]
  },
  {
   "cell_type": "code",
   "execution_count": 168,
   "metadata": {
    "ExecuteTime": {
     "end_time": "2016-12-02T15:14:46.817497",
     "start_time": "2016-12-02T15:14:46.794482"
    },
    "collapsed": false
   },
   "outputs": [
    {
     "data": {
      "text/plain": [
       "u'<table border=\"1\" class=\"dataframe\">  <thead>    <tr style=\"text-align: right;\">      <th></th>      <th>optimal_hyperparameters</th>      <th>test_rmse</th>      <th>mean_cv_rmse</th>      <th>std_cv_rmse</th>      <th>train_rmse</th>      <th>opt_method</th>    </tr>  </thead>  <tbody>    <tr>      <th>0</th>      <td>{u\\'n_estimators\\': 25, u\\'learning_rate\\': 0.8, u\\'max_depth\\': 10, u\\'gamma\\': 0.2}</td>      <td>0.390102</td>      <td>0.406295</td>      <td>0.001396</td>      <td>0.138684</td>      <td>grid_search</td>    </tr>    <tr>      <th>1</th>      <td>{u\\'n_estimators\\': 105, u\\'learning_rate\\': 0.0583873644628, u\\'max_depth\\': 5, u\\'gamma\\': 0.555704565...</td>      <td>0.325454</td>      <td>0.338373</td>      <td>0.003867</td>      <td>0.302278</td>      <td>random_search</td>    </tr>    <tr>      <th>2</th>      <td>{u\\'n_estimators\\': 721, u\\'learning_rate\\': 0.0812468270757, u\\'max_depth\\': 4, u\\'gamma\\': 0.640681919...</td>      <td>0.325325</td>      <td>0.338179</td>      <td>0.003728</td>      <td>0.298393</td>      <td>hyperopt_tpe</td>    </tr>  </tbody></table>'"
      ]
     },
     "execution_count": 168,
     "metadata": {},
     "output_type": "execute_result"
    }
   ],
   "source": [
    "from IPython.display import HTML\n",
    "results_df.to_html().replace('\\n','')"
   ]
  }
 ],
 "metadata": {
  "anaconda-cloud": {},
  "kernelspec": {
   "display_name": "Python [conda env:hyperparameters-optimization]",
   "language": "python",
   "name": "conda-env-hyperparameters-optimization-py"
  },
  "language_info": {
   "codemirror_mode": {
    "name": "ipython",
    "version": 2
   },
   "file_extension": ".py",
   "mimetype": "text/x-python",
   "name": "python",
   "nbconvert_exporter": "python",
   "pygments_lexer": "ipython2",
   "version": "2.7.12"
  },
  "toc": {
   "toc_cell": false,
   "toc_number_sections": true,
   "toc_threshold": 6,
   "toc_window_display": false
  }
 },
 "nbformat": 4,
 "nbformat_minor": 1
}
